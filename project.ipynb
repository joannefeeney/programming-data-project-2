{
 "cells": [
  {
   "cell_type": "markdown",
   "metadata": {},
   "source": [
    "# My Programming for Data Analytics Project\n",
    "\n",
    "**By Joanne Feeney**\n",
    "***"
   ]
  },
  {
   "cell_type": "markdown",
   "metadata": {},
   "source": [
    "For this project, I will:\n",
    "\n",
    "- Analyse CO2 vs Temperature Anomaly from 800kyrs – present. \n",
    "- Examine one other (paleo/modern) features (e.g. CH4 or polar ice-coverage).\n",
    "- Examine Irish context e.g. Climate change signals: (see Maynooth study: The emergence of a climate change signal in long-term Irish meteorological observations - ScienceDirect).\n",
    "- Fuse and analyse data from various data sources and format fused data set as a pandas dataframe and export to csv and json formats.\n",
    "- For all of the above variables, analyse the data, the trends and the relationships between them (temporal leads/lags/frequency analysis).\n",
    "- Predict global temperature anomaly over next few decades (synthesise data) and compare to published climate models if atmospheric CO2 trends continue.\n",
    "- Comment on accelerated warming based on very latest features (e.g. temperature/polar-icecoverage)."
   ]
  },
  {
   "cell_type": "markdown",
   "metadata": {},
   "source": [
    "Importing different packages that I will use in this notebook"
   ]
  },
  {
   "cell_type": "code",
   "execution_count": 2,
   "metadata": {},
   "outputs": [],
   "source": [
    "# Imports\n",
    "import numpy as np\n",
    "import matplotlib.pyplot as plt\n",
    "import pandas as pd\n",
    "import seaborn as sns"
   ]
  },
  {
   "cell_type": "markdown",
   "metadata": {},
   "source": [
    "Reading in data provided by the lecturer."
   ]
  },
  {
   "cell_type": "markdown",
   "metadata": {},
   "source": [
    "Luthi et. al. data:"
   ]
  },
  {
   "cell_type": "code",
   "execution_count": 5,
   "metadata": {},
   "outputs": [],
   "source": [
    "# Naming as df1 and reading it into python\n",
    "df1 = pd.read_csv(\"data\\CO2_data_from_Luthi_et_al_2008.csv\")"
   ]
  },
  {
   "cell_type": "code",
   "execution_count": 6,
   "metadata": {},
   "outputs": [],
   "source": [
    "# Naming as df2 and reading it into python\n",
    "df2 = pd.read_csv(\"data\\CO2_data_from_Luthi_et_al_2008_2.csv\")"
   ]
  },
  {
   "cell_type": "code",
   "execution_count": 7,
   "metadata": {},
   "outputs": [],
   "source": [
    "# Naming as df3 and reading it into python\n",
    "df3 = pd.read_csv(\"data\\CO2_data_from_Luthi_et_al_2008_3.csv\")"
   ]
  },
  {
   "cell_type": "markdown",
   "metadata": {},
   "source": [
    "Jouzel data:"
   ]
  },
  {
   "cell_type": "code",
   "execution_count": 8,
   "metadata": {},
   "outputs": [],
   "source": [
    "# Naming as df4 and reading it into python\n",
    "df4 = pd.read_csv(\"data\\Temperature_data_from_Jouzel.csv\")"
   ]
  },
  {
   "cell_type": "markdown",
   "metadata": {},
   "source": [
    "NOAA data:"
   ]
  },
  {
   "cell_type": "code",
   "execution_count": null,
   "metadata": {},
   "outputs": [],
   "source": [
    "# Naming as df5 and reading it into python\n",
    "df5 = pd.read_csv(\"data\\Temperature_data_from_NOAA_1.csv\")"
   ]
  },
  {
   "cell_type": "code",
   "execution_count": null,
   "metadata": {},
   "outputs": [],
   "source": [
    "# Naming as df6 and reading it into python\n",
    "df6 = pd.read_csv(\"data\\Temperature_data_from_NOAA_2.csv\")"
   ]
  },
  {
   "cell_type": "code",
   "execution_count": null,
   "metadata": {},
   "outputs": [],
   "source": []
  },
  {
   "cell_type": "code",
   "execution_count": null,
   "metadata": {},
   "outputs": [],
   "source": []
  }
 ],
 "metadata": {
  "kernelspec": {
   "display_name": "base",
   "language": "python",
   "name": "python3"
  },
  "language_info": {
   "codemirror_mode": {
    "name": "ipython",
    "version": 3
   },
   "file_extension": ".py",
   "mimetype": "text/x-python",
   "name": "python",
   "nbconvert_exporter": "python",
   "pygments_lexer": "ipython3",
   "version": "3.11.4"
  }
 },
 "nbformat": 4,
 "nbformat_minor": 2
}

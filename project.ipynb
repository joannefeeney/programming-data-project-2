{
 "cells": [
  {
   "cell_type": "markdown",
   "metadata": {},
   "source": [
    "# My Programming for Data Analytics Project\n",
    "\n",
    "**By Joanne Feeney**\n",
    "***"
   ]
  },
  {
   "cell_type": "markdown",
   "metadata": {},
   "source": [
    "### Introduction\n",
    "\n",
    "For this project, I will:\n",
    "\n",
    "- Analyse CO2 vs Temperature Anomaly from 800kyrs – present. \n",
    "- Examine one other (paleo/modern) features (e.g. CH4 or polar ice-coverage).\n",
    "- Examine Irish context e.g. Climate change signals: (see Maynooth study: The emergence of a climate change signal in long-term Irish meteorological observations - ScienceDirect).\n",
    "- Fuse and analyse data from various data sources and format fused data set as a pandas dataframe and export to csv and json formats.\n",
    "- For all of the above variables, analyse the data, the trends and the relationships between them (temporal leads/lags/frequency analysis).\n",
    "- Predict global temperature anomaly over next few decades (synthesise data) and compare to published climate models if atmospheric CO2 trends continue.\n",
    "- Comment on accelerated warming based on very latest features (e.g. temperature/polar-icecoverage)."
   ]
  },
  {
   "cell_type": "markdown",
   "metadata": {},
   "source": [
    "***\n",
    "Importing different packages that I will use in this notebook"
   ]
  },
  {
   "cell_type": "code",
   "execution_count": null,
   "metadata": {},
   "outputs": [],
   "source": [
    "# Imports\n",
    "import numpy as np\n",
    "import matplotlib.pyplot as plt\n",
    "import pandas as pd\n",
    "import seaborn as sns\n",
    "from datetime import datetime\n",
    "import math\n",
    "import csv"
   ]
  },
  {
   "cell_type": "markdown",
   "metadata": {},
   "source": [
    "Reading in data provided by the lecturer & skipping rows that are not required."
   ]
  },
  {
   "cell_type": "markdown",
   "metadata": {},
   "source": [
    "Composite (Co2) data:"
   ]
  },
  {
   "cell_type": "code",
   "execution_count": null,
   "metadata": {},
   "outputs": [],
   "source": [
    "# Naming as df1 and reading it into python\n",
    "df1 = pd.read_csv(\"data\\Temperature_data_from_NOAA_3.csv\", skiprows=14)"
   ]
  },
  {
   "cell_type": "markdown",
   "metadata": {},
   "source": [
    "Jouzel (temperature) data:"
   ]
  },
  {
   "cell_type": "code",
   "execution_count": null,
   "metadata": {},
   "outputs": [],
   "source": [
    "# Naming as df2 and reading it into python\n",
    "df2 = pd.read_csv(\"data\\Temperature_data_from_Jouzel.csv\")"
   ]
  },
  {
   "cell_type": "markdown",
   "metadata": {},
   "source": [
    "Luthi et. al. data already included as part of NOAA csv."
   ]
  },
  {
   "cell_type": "markdown",
   "metadata": {},
   "source": [
    "[1]"
   ]
  },
  {
   "cell_type": "markdown",
   "metadata": {},
   "source": [
    "I begin comparing columns and seeing what information I require for this project. I can see from F.Parrenin et. al.'s paper [2], that EDC3 / yr BP and any other variations of this column name on the other datasets means years before AD1950 which clears things up for me."
   ]
  },
  {
   "cell_type": "code",
   "execution_count": null,
   "metadata": {},
   "outputs": [],
   "source": [
    "# Dropping NaN columns in composite data (Geeksforgeeks)\n",
    "df1.drop(['Unnamed: 3', 'Unnamed: 4','Unnamed: 5','Unnamed: 6', 'Unnamed: 7'], axis=1, inplace=True)"
   ]
  },
  {
   "cell_type": "markdown",
   "metadata": {},
   "source": [
    "[3]"
   ]
  },
  {
   "cell_type": "markdown",
   "metadata": {},
   "source": [
    "Using df1.info() to find out more information about the dataset. From this we can see there are 1901 entries and there are only float data types."
   ]
  },
  {
   "cell_type": "code",
   "execution_count": null,
   "metadata": {},
   "outputs": [],
   "source": [
    "df1.info()"
   ]
  },
  {
   "cell_type": "markdown",
   "metadata": {},
   "source": [
    "Using df1.describe() to see the maximum, minimum, mean etc. of each of the  variables."
   ]
  },
  {
   "cell_type": "code",
   "execution_count": null,
   "metadata": {},
   "outputs": [],
   "source": [
    "df1.describe()"
   ]
  },
  {
   "cell_type": "markdown",
   "metadata": {},
   "source": [
    "Using df.isnull().sum() to check if there are any null/NaN entries in the dataset."
   ]
  },
  {
   "cell_type": "code",
   "execution_count": null,
   "metadata": {},
   "outputs": [],
   "source": [
    "df1.isnull().sum()"
   ]
  },
  {
   "cell_type": "markdown",
   "metadata": {},
   "source": [
    "Adding column names."
   ]
  },
  {
   "cell_type": "code",
   "execution_count": null,
   "metadata": {},
   "outputs": [],
   "source": [
    "# Adding columns\n",
    "df1.columns =['Years before AD1950', 'Co2 levels', 'Sigma mean of Co2']"
   ]
  },
  {
   "cell_type": "markdown",
   "metadata": {},
   "source": [
    "By using all of the above quick python codes, we can already make some assumptions about the composite Co2 dataset. We can see that there are some columns with missing values, which we have dropped. Each of the three variables we require has a count of 1901. \n",
    "\n",
    "We only have one types of variable, floats. There are no null values in the three columns that we will be using for Co2."
   ]
  },
  {
   "cell_type": "markdown",
   "metadata": {},
   "source": [
    "Plotting the entire dataset Co2 history to compare levels in the atmosphere from 800,000 years ago to present day. Note that Co2 is measured in 'ppmv', meaning parts per million by volume."
   ]
  },
  {
   "cell_type": "code",
   "execution_count": null,
   "metadata": {},
   "outputs": [],
   "source": [
    "# Plotting all variables and inverting x axis (Stackoverflow.com)\n",
    "df1.plot(x='Years before AD1950', y='Co2 levels', title='level of Co2 in atmosphere 800Kyr-present (ppmv)').invert_xaxis();"
   ]
  },
  {
   "cell_type": "markdown",
   "metadata": {},
   "source": [
    "[4]"
   ]
  },
  {
   "cell_type": "markdown",
   "metadata": {},
   "source": [
    "Taking a closer look at the last 50 years"
   ]
  },
  {
   "cell_type": "code",
   "execution_count": null,
   "metadata": {},
   "outputs": [],
   "source": [
    "# Creating a variable for recent years\n",
    "df1_present = df1[0:62]"
   ]
  },
  {
   "cell_type": "code",
   "execution_count": null,
   "metadata": {},
   "outputs": [],
   "source": [
    "# Plotting from 1950 on and inverting x axis (Stackoverflow.com) (Pythonguides.com)\n",
    "ax = df1_present.plot(x='Years before AD1950', y='Co2 levels', title='level of Co2 in atmosphere 1950AD-present (ppmv)').invert_xaxis();\n",
    "plt.xlabel('1950-present', size=20);\n",
    "plt.tick_params(axis='x', labelbottom=False)"
   ]
  },
  {
   "cell_type": "markdown",
   "metadata": {},
   "source": [
    "[5]"
   ]
  },
  {
   "cell_type": "markdown",
   "metadata": {},
   "source": [
    "From the above, we can see that the levels of Co2 in the atmosphere has significantly increased in comparison to any amount of time in the past 800,000 years. The highest Co2 levels we have previously seen on this planet according to this dataset sat at about the 300 mark roughly 330,000 years ago whereas between 1950-present day we have gone way over this maximum and are now sitting at roughly 375."
   ]
  },
  {
   "cell_type": "markdown",
   "metadata": {},
   "source": [
    "Now let's look at temperature data."
   ]
  },
  {
   "cell_type": "code",
   "execution_count": null,
   "metadata": {},
   "outputs": [],
   "source": [
    "# Dropping columns data bar year and temperature (Geeksforgeeks)\n",
    "df2.drop(['bag', 'ztop', 'AICC2012', 'deutfinal', 'acc-EDC3beta'], axis=1, inplace=True)"
   ]
  },
  {
   "cell_type": "code",
   "execution_count": null,
   "metadata": {},
   "outputs": [],
   "source": [
    "df2.head()"
   ]
  },
  {
   "cell_type": "code",
   "execution_count": null,
   "metadata": {},
   "outputs": [],
   "source": [
    "# Adding columns\n",
    "df2.columns =['Years before AD1950', 'Temperature (Kelvin)']"
   ]
  },
  {
   "cell_type": "code",
   "execution_count": null,
   "metadata": {},
   "outputs": [],
   "source": [
    "# Plotting all variables and inverting x axis (Stackoverflow.com)\n",
    "df2.plot(x='Years before AD1950', y='Temperature (Kelvin)', title='temperature 800Kyr-present', color='r').invert_xaxis();"
   ]
  },
  {
   "cell_type": "markdown",
   "metadata": {},
   "source": [
    "Creating a variable which contains both temperature & Co2 data."
   ]
  },
  {
   "cell_type": "code",
   "execution_count": null,
   "metadata": {},
   "outputs": [],
   "source": [
    "# Merging datasets together (Python for MBAs)\n",
    "df_fused = pd.merge(df1, \n",
    "                    df2,\n",
    "                    left_on='Years before AD1950',\n",
    "                    right_on='Years before AD1950',\n",
    "                    how='outer')"
   ]
  },
  {
   "cell_type": "markdown",
   "metadata": {},
   "source": [
    "[1]"
   ]
  },
  {
   "cell_type": "markdown",
   "metadata": {},
   "source": [
    "Below is a plot with both Co2 and temperature data on the one graph."
   ]
  },
  {
   "cell_type": "code",
   "execution_count": null,
   "metadata": {},
   "outputs": [],
   "source": [
    "# Plot containing Co2 & temperature data (Datacamp.com & Stackoverflow)\n",
    "fig, ax = plt.subplots()\n",
    "ax.plot(df1, df1['Co2 levels'], color='blue')\n",
    "ax.set_xlabel('Years before AD1950')\n",
    "ax.set_ylabel('Co2 (ppmv)', color='blue')\n",
    "ax2 = ax.twinx()\n",
    "ax2.plot(df2, df2['Temperature (Kelvin)'], color='red')\n",
    "ax2.set_ylabel('Temp (Kelvin)', color='red')\n",
    "plt.title('Co2 & temperature comparison')\n",
    "plt.gca().invert_xaxis()\n",
    "plt.show()"
   ]
  },
  {
   "cell_type": "markdown",
   "metadata": {},
   "source": [
    "[11] & [12]"
   ]
  },
  {
   "cell_type": "markdown",
   "metadata": {},
   "source": [
    "As we can see above, temperature and Co2 levels have stayed fairly consistant with one another over the last 800,000 years. It is quite difficult to see the blue line representing Co2 in place as the red line representing temperature overlays it however we can see that in recent years, both Co2 levels and temperature and strikingly higher that at any point in the last 800,000 years."
   ]
  },
  {
   "cell_type": "markdown",
   "metadata": {},
   "source": [
    "***"
   ]
  },
  {
   "cell_type": "markdown",
   "metadata": {},
   "source": [
    "The one other feature that I will be investigating as part of this project will be polar ice coverage. I will do so by plotting data that I have located online [7] & [8]. "
   ]
  },
  {
   "cell_type": "code",
   "execution_count": null,
   "metadata": {},
   "outputs": [],
   "source": [
    "# Reading in ice dataset that I found online\n",
    "df_ice_mass_loss = pd.read_csv(\"data\\cumulative-ice-mass-loss-and.csv\")"
   ]
  },
  {
   "cell_type": "markdown",
   "metadata": {},
   "source": [
    "[7]"
   ]
  },
  {
   "cell_type": "code",
   "execution_count": null,
   "metadata": {},
   "outputs": [],
   "source": [
    "# Dropping columns\n",
    "df_ice_mass_loss.drop(['Cumulative ice mass loss (Greenland):number', 'Greenland Cumulative ice mass loss:number','Greenland Lower bound:number',\n",
    "                       'Greenland Upper bound:number', 'Antarctic Cumulative mass loss uncertanty:number', \n",
    "                       'Antarctic Lower bound:number', 'Antarctic Upper bound:number'], axis=1, inplace=True)"
   ]
  },
  {
   "cell_type": "code",
   "execution_count": null,
   "metadata": {},
   "outputs": [],
   "source": [
    "# Removing numbers after decimal point (Geeksforgeeks.com)\n",
    "year = df_ice_mass_loss['Year:number']\n",
    "\n",
    "lst = [] \n",
    "for each in year: \n",
    "    lst.append(str(each).split('.')[0]) \n",
    "  \n",
    "# Converting to integers\n",
    "final_list = [int(i) for i in lst]"
   ]
  },
  {
   "cell_type": "markdown",
   "metadata": {},
   "source": [
    "[9]"
   ]
  },
  {
   "cell_type": "code",
   "execution_count": null,
   "metadata": {},
   "outputs": [],
   "source": [
    "# Adding in new column\n",
    "df_ice_mass_loss.insert(1, 'Year', final_list)"
   ]
  },
  {
   "cell_type": "code",
   "execution_count": null,
   "metadata": {},
   "outputs": [],
   "source": [
    "# Dropping original column\n",
    "df_ice_mass_loss.drop('Year:number', axis=1, inplace=True)"
   ]
  },
  {
   "cell_type": "code",
   "execution_count": null,
   "metadata": {},
   "outputs": [],
   "source": [
    "# Assigning Year column to datetime format\n",
    "pd.to_datetime(df_ice_mass_loss['Year'], format='%Y');"
   ]
  },
  {
   "cell_type": "markdown",
   "metadata": {},
   "source": [
    "[10]"
   ]
  },
  {
   "cell_type": "code",
   "execution_count": null,
   "metadata": {},
   "outputs": [],
   "source": [
    "# Adding column names\n",
    "df_ice_mass_loss.columns = ['Year', 'Cumulative ice mass loss (Antarctica)']"
   ]
  },
  {
   "cell_type": "code",
   "execution_count": null,
   "metadata": {},
   "outputs": [],
   "source": [
    "# Plotting all variables as bar chart (Stackoverflow.com)\n",
    "df_ice_mass_loss.plot(x='Year', y='Cumulative ice mass loss (Antarctica)', \n",
    "                      title='ice mass loss in Antarctica 1992-2014 (Gigatonnes)', color='g', kind='bar', xticks=[], \n",
    "                      xlabel='Years 1992 - 2014', figsize=(16,6));"
   ]
  },
  {
   "cell_type": "markdown",
   "metadata": {},
   "source": [
    "[13]"
   ]
  },
  {
   "cell_type": "markdown",
   "metadata": {},
   "source": [
    "As we can see in the above plot, between 1992 & 2014 there has been a massive loss of ice in Antarctica, almost 1600 Gigatonnes lost in Antarctica alone. \n",
    "\n",
    "1992 was only 32 years ago and when we compare the rate of loss, this is highly concerning as we are all aware that the more polar ice that melts, the higher the sea levels and all other consequences that come with this massive change to the amount of water on our planet.\n",
    "\n",
    "\n",
    "This dataset also provides data for loss of ice mass in Greenland, which I  have not plotted, as I am only investigating polar ice loss however shows an even greater disappearance of ice."
   ]
  },
  {
   "cell_type": "markdown",
   "metadata": {},
   "source": [
    "Below, I am going to investigate another dataset."
   ]
  },
  {
   "cell_type": "code",
   "execution_count": null,
   "metadata": {},
   "outputs": [],
   "source": [
    "# Reading in another ice dataset that I found online\n",
    "df_sea_ice = pd.read_csv(\"data\\Sea_Ice_Index_Monthly_Data_by_Year.csv\")"
   ]
  },
  {
   "cell_type": "markdown",
   "metadata": {},
   "source": [
    "[8]"
   ]
  },
  {
   "cell_type": "code",
   "execution_count": null,
   "metadata": {},
   "outputs": [],
   "source": [
    "#Dropping NaN column\n",
    "df_sea_ice.drop('Unnamed: 13', axis=1, inplace=True)"
   ]
  },
  {
   "cell_type": "code",
   "execution_count": null,
   "metadata": {},
   "outputs": [],
   "source": [
    "# Assigning Year column to datetime format\n",
    "pd.to_datetime(df_sea_ice['Year'], format='%Y');"
   ]
  },
  {
   "cell_type": "code",
   "execution_count": null,
   "metadata": {},
   "outputs": [],
   "source": [
    "# Scatterplot of data\n",
    "ax = sns.scatterplot(df_sea_ice, x='Year', y='Annual')\n",
    "ax.set(xlabel='Years', ylabel='Sea Ice (millions of sq. km.)', title='sea ice 1978-present (Northern Hemisphere)');"
   ]
  },
  {
   "cell_type": "markdown",
   "metadata": {},
   "source": [
    "As we can see from the above dataset of sea ice in the Northern Hemisphere (NH), there is also a great loss in millions of square kilometres (msk). In 1978, there was 12.328 msk of sea ice compared to 2023, when there was only 10.327 msk. \n",
    "\n",
    "Considering we are speaking about **millions** of square kilometres, that is a massive loss of sea ice. I can only imagine ehat this might mean for the species that live in these areas in the NH. That is a massive loss of habitat for them and will contribute majorly to their decline in numbers and possibly even exctinction if this rate of decline continues. \n",
    "***"
   ]
  },
  {
   "cell_type": "markdown",
   "metadata": {},
   "source": [
    "For the Irish context, I read: \n",
    "\n",
    "Murphy et al., 2023, \"The emergence of a climate change signal in long-term Irish meteorological observations\" (https://www.sciencedirect.com/science/article/pii/S2212094723000610#bib13) "
   ]
  },
  {
   "cell_type": "markdown",
   "metadata": {},
   "source": [
    "I have also dowloaded the long-term dataset for Markree (in my home County of Sligo) from met.ie [14] in order to see what temperature anomolies there are when comparing almost 200 yeras worth of data for our small island."
   ]
  },
  {
   "cell_type": "code",
   "execution_count": null,
   "metadata": {},
   "outputs": [],
   "source": [
    "# Reading in dataset that I found online\n",
    "df_markree = pd.read_csv(\"data\\Markree_1850-1968.csv\")"
   ]
  },
  {
   "cell_type": "code",
   "execution_count": null,
   "metadata": {},
   "outputs": [],
   "source": [
    "# Assigning Year & Month as ints\n",
    "df_markree.Year.astype('int32');\n",
    "df_markree.Month.astype('int32');"
   ]
  },
  {
   "cell_type": "code",
   "execution_count": null,
   "metadata": {},
   "outputs": [],
   "source": [
    "# Assigning Year & Month column to datetime format (Stackoverflow.com)\n",
    "pd.to_datetime(df_markree.Year, format='%Y');\n",
    "pd.to_datetime(df_markree.Month, format='%m');\n",
    "pd.to_datetime(df_markree.Day, format='%d');"
   ]
  },
  {
   "cell_type": "markdown",
   "metadata": {},
   "source": [
    "[14]"
   ]
  },
  {
   "cell_type": "code",
   "execution_count": null,
   "metadata": {},
   "outputs": [],
   "source": [
    "# Dropping NA data\n",
    "df_markree.dropna(inplace=True)"
   ]
  },
  {
   "cell_type": "code",
   "execution_count": null,
   "metadata": {},
   "outputs": [],
   "source": [
    "# Plotting temperature data for Ireland in seaborn\n",
    "sns.lineplot(data=df_markree, x='Year', y='Max (C)', \n",
    "             markers=True, color='magenta', linestyle='dotted').set(title='maximum temperatures in Markree 1850-1968', \n",
    "                                                xlabel='Date', ylabel='Celsius');"
   ]
  },
  {
   "cell_type": "markdown",
   "metadata": {},
   "source": [
    "As we can see there is a drop out in data around 1860 due to some NA rows but if we exclude this, there seems to be a pretty standaard high and low in max temperatures each year representing the season comparison between Winter & Summer months.\n",
    "\n",
    "Let's now look at just the data for July of each year."
   ]
  },
  {
   "cell_type": "code",
   "execution_count": null,
   "metadata": {},
   "outputs": [],
   "source": [
    "# Creating a new variable for just July (Stackoverflow.com)\n",
    "df_july = df_markree[(df_markree['Month'] == 7) & (df_markree['Day'] == 1)]"
   ]
  },
  {
   "cell_type": "markdown",
   "metadata": {},
   "source": [
    "[15]"
   ]
  },
  {
   "cell_type": "code",
   "execution_count": null,
   "metadata": {},
   "outputs": [],
   "source": [
    "# Plotting temperature data for just July (Stackoverflow.com)\n",
    "sns.lineplot(data=df_july, x='Year', y='Max (C)', color='magenta', linewidth=1)\n",
    "plt.title('maximum temperature Markree on July 1st 1850-1968')\n",
    "plt.xlabel('Year')\n",
    "plt.ylabel('Max Temperature (C)');"
   ]
  },
  {
   "cell_type": "markdown",
   "metadata": {},
   "source": [
    "[16]"
   ]
  },
  {
   "cell_type": "markdown",
   "metadata": {},
   "source": [
    "As we can see above, when we take the data for just the 1st of July every year, the maximum temperature fluctuates greatly from about 12C to amost 26C. The two highest recorded temperatures being around 1885 & 1908.\n",
    "\n",
    "We will now look at more recent datasets for the Sligo area (after 1968)."
   ]
  },
  {
   "cell_type": "code",
   "execution_count": null,
   "metadata": {},
   "outputs": [],
   "source": [
    "# Reading in dataset that I found online (Met Eireann)\n",
    "df_sligo_airport = pd.read_csv(\"data\\Sligo_Airport_Temps.csv\", skiprows=13)"
   ]
  },
  {
   "cell_type": "markdown",
   "metadata": {},
   "source": [
    "[21]"
   ]
  },
  {
   "cell_type": "code",
   "execution_count": null,
   "metadata": {},
   "outputs": [],
   "source": [
    "# Converting date row to datetime\n",
    "df_sligo_airport['date'] = pd.to_datetime(df_sligo_airport['date'])"
   ]
  },
  {
   "cell_type": "code",
   "execution_count": null,
   "metadata": {},
   "outputs": [],
   "source": [
    "# Creating a new variable for just July again (Pynative & Stackoverflow.com)\n",
    "start_date = datetime.strptime(\"1988-07-01\", \"%Y-%m-%d\")\n",
    "july_list = pd.date_range(start_date, periods=31, freq='AS-JUL')"
   ]
  },
  {
   "cell_type": "markdown",
   "metadata": {},
   "source": [
    "[17] & [18]"
   ]
  },
  {
   "cell_type": "code",
   "execution_count": null,
   "metadata": {},
   "outputs": [],
   "source": [
    "# Filtering dataset against july_list variable\n",
    "df_sligo_filtered = df_sligo_airport[df_sligo_airport['date'].isin(july_list)]"
   ]
  },
  {
   "cell_type": "code",
   "execution_count": null,
   "metadata": {},
   "outputs": [],
   "source": [
    "# Dropping empty rows (Shanelynn.ie)\n",
    "df_sligo_filtered = df_sligo_filtered.drop(labels=0, axis=0)\n",
    "df_sligo_filtered = df_sligo_filtered.drop(labels=365, axis=0)\n",
    "df_sligo_filtered = df_sligo_filtered.drop(labels=730, axis=0)\n",
    "df_sligo_filtered = df_sligo_filtered.drop(labels=1826, axis=0)\n",
    "df_sligo_filtered = df_sligo_filtered.drop(labels=5934, axis=0)"
   ]
  },
  {
   "cell_type": "markdown",
   "metadata": {},
   "source": [
    "[19]"
   ]
  },
  {
   "cell_type": "code",
   "execution_count": null,
   "metadata": {},
   "outputs": [],
   "source": [
    "# Assigning maxt column as float (Sparkbyexamples.com)\n",
    "df_sligo_filtered['maxt'] = df_sligo_filtered['maxt'].astype(float) "
   ]
  },
  {
   "cell_type": "markdown",
   "metadata": {},
   "source": [
    "[20]"
   ]
  },
  {
   "cell_type": "code",
   "execution_count": null,
   "metadata": {},
   "outputs": [],
   "source": [
    "# Assigning Year & Month column to datetime format (Stackoverflow.com)\n",
    "pd.to_datetime(df_markree.Year, format='%Y');\n",
    "pd.to_datetime(df_markree.Month, format='%m');"
   ]
  },
  {
   "cell_type": "code",
   "execution_count": null,
   "metadata": {},
   "outputs": [],
   "source": [
    "# Plotting temperature data for Sligo Airport\n",
    "sns.lineplot(data=df_sligo_filtered, x='date', y='maxt', color='coral', linestyle='dashdot')\n",
    "plt.title('maximum temperature Sligo Airport on July 1st 1988-2016')\n",
    "plt.xlabel('Year')\n",
    "plt.ylabel('Max Temperature (C)');"
   ]
  },
  {
   "cell_type": "markdown",
   "metadata": {},
   "source": [
    "When we take the data for just the 1st of July every year for 1988-2016, the maximum temperature fluctuates the same way as in the previous plot from 1850-1968. This time the temperatures are fluctuating from about 14C to approximately 23C."
   ]
  },
  {
   "cell_type": "markdown",
   "metadata": {},
   "source": [
    "I will now provide one more plot for even more recent data for the Markree area of Sligo."
   ]
  },
  {
   "cell_type": "code",
   "execution_count": null,
   "metadata": {},
   "outputs": [],
   "source": [
    "# Reading in dataset that I found online (Met Eireann)\n",
    "df_markree_recent = pd.read_csv(\"data\\Markree_Recent_Temps.csv\", skiprows=19)"
   ]
  },
  {
   "cell_type": "markdown",
   "metadata": {},
   "source": [
    "[22]"
   ]
  },
  {
   "cell_type": "code",
   "execution_count": null,
   "metadata": {},
   "outputs": [],
   "source": [
    "# Assigning maxt column as float (Sparkbyexamples.com)\n",
    "df_markree_recent['maxtp'] = df_markree_recent['maxtp'].astype(int) "
   ]
  },
  {
   "cell_type": "code",
   "execution_count": null,
   "metadata": {},
   "outputs": [],
   "source": [
    "# Creating a new variable for just July\n",
    "df_july_recent = df_markree_recent[(df_markree_recent['month'] == 7)]"
   ]
  },
  {
   "cell_type": "code",
   "execution_count": null,
   "metadata": {},
   "outputs": [],
   "source": [
    "# Plotting temperature data for recent Markree data\n",
    "sns.lineplot(data=df_july_recent, x='year', y='maxtp', color='aqua', linestyle='dashdot')\n",
    "plt.title('maximum temperature Markree in July 2005-2023')\n",
    "plt.xlabel('Year')\n",
    "plt.xticks([2005, 2007, 2010, 2012, 2015, 2017, 2020, 2022])\n",
    "plt.ylabel('Max Temperature (C)');"
   ]
  },
  {
   "cell_type": "markdown",
   "metadata": {},
   "source": [
    "As we can see on the more recent data, July is now seeing a higher max temperature compared to preious years of 29C. The lowest max temperature of 20C is also way higher that the long term datasets lowest point, which was 12C."
   ]
  },
  {
   "cell_type": "markdown",
   "metadata": {},
   "source": [
    "I believe that the data I am investigating above shows us that for Ireland (and specifically Sligo alone), we are seeing a great increase in air temperatures compared to a couple hundres years ago. Considering that Co2 data that we have plotted at the very beginning is for 800,000 years, the vast changes we see in not even 300 years worth of data does not bode well for how quickly our planet is warming.\n",
    "***"
   ]
  },
  {
   "cell_type": "markdown",
   "metadata": {},
   "source": [
    "I have fused the Jouzel and Luthi et. al. (temperature & Co2) data to a variable called df_fused and will export that to csv and JSON formats."
   ]
  },
  {
   "cell_type": "code",
   "execution_count": null,
   "metadata": {},
   "outputs": [],
   "source": [
    "# Exporting variable to csv (Stackoverflow.com)\n",
    "df_fused.to_csv('Fused_historic_temp_&_Co2_data.csv', index=False)"
   ]
  },
  {
   "cell_type": "markdown",
   "metadata": {},
   "source": [
    "[23]"
   ]
  },
  {
   "cell_type": "markdown",
   "metadata": {},
   "source": [
    "The new csv file is now saved and named \"Fused_historic_temp_&_Co2_data.csv\""
   ]
  },
  {
   "cell_type": "code",
   "execution_count": null,
   "metadata": {},
   "outputs": [],
   "source": [
    "# Merging irish datasets together \n",
    "df_fused_sligo = pd.merge(df_markree, \n",
    "                    df_markree_recent,\n",
    "                    left_on='Year',\n",
    "                    right_on='year',\n",
    "                    how='outer')"
   ]
  },
  {
   "cell_type": "code",
   "execution_count": null,
   "metadata": {},
   "outputs": [],
   "source": [
    "# Exporting variable to csv (Stackoverflow.com)\n",
    "df_fused_sligo.to_csv('Fused_sligo_data.csv', index=False)"
   ]
  },
  {
   "cell_type": "markdown",
   "metadata": {},
   "source": [
    "Another csv has been created for the Markree, County Sligo temperature data."
   ]
  },
  {
   "cell_type": "code",
   "execution_count": null,
   "metadata": {},
   "outputs": [],
   "source": [
    "# Adding historic data to JSON (Datatofish.com)\n",
    "new_historic_df = pd.read_csv ('Fused_historic_temp_&_Co2_data.csv')\n",
    "new_historic_df.to_json ('Fused_historic_temp_&_Co2_data.json')"
   ]
  },
  {
   "cell_type": "markdown",
   "metadata": {},
   "source": [
    "[24]"
   ]
  },
  {
   "cell_type": "code",
   "execution_count": null,
   "metadata": {},
   "outputs": [],
   "source": [
    "# Adding Sligo data to JSON (Datatofish.com)\n",
    "new_sligo_df = pd.read_csv ('Fused_sligo_data.csv', low_memory=False)\n",
    "new_sligo_df.to_json ('Fused_sligo_data.json')"
   ]
  },
  {
   "cell_type": "markdown",
   "metadata": {},
   "source": [
    "I have now fused all global data together and also fused all Irish datat together and exported them to both csv and JSON formats.\n",
    "***"
   ]
  },
  {
   "cell_type": "markdown",
   "metadata": {},
   "source": [
    "Below, I  will predict global temperature anomaly for the next few decades as best I can and will compare my findings to current published data."
   ]
  },
  {
   "cell_type": "markdown",
   "metadata": {},
   "source": [
    "### Conclusion\n",
    "***"
   ]
  },
  {
   "cell_type": "markdown",
   "metadata": {},
   "source": []
  },
  {
   "cell_type": "markdown",
   "metadata": {},
   "source": [
    "### References\n",
    "***\n",
    "\n",
    "[1] Python for MBAs, Griffel & Guetta, Columbia Business School Publishing, 2021, eBook Academic Collection (EBSCOhost), (https://web.s.ebscohost.com/ehost/ebookviewer/ebook/ZTAwMHh3d19fMjQ1ODcyM19fQU41?sid=9d53254f-59d9-4f57-baa5-1b1ed8837cce@redis&vid=3&format=EB), chapter 7.6 JOINS IN PANDAS, last accessed 20/12/23\n",
    "\n",
    "[2] The EDC3 chronology for the EPICA Dome C icecore, F.Parrenin et. al., 2007 (https://cp.copernicus.org/articles/3/485/2007/cp-3-485-2007.pdf), last accessed 20/12/23\n",
    "\n",
    "[3] Geeksforgeeks.com, (https://www.geeksforgeeks.org/how-to-drop-one-or-multiple-columns-in-pandas-dataframe/), last accessed 20/12/23\n",
    "\n",
    "[4] Stackoverflow.com, (https://stackoverflow.com/questions/28837123/pyplot-reverse-x-axis-and-reverse-table-subplot), last accessed 22/12/23\n",
    "\n",
    "[5] Pythonguides.com, (https://pythonguides.com/matplotlib-tick-params/), last accessed 22/12/23\n",
    "\n",
    "[6] Stackoverflow.com, (https://stackoverflow.com/questions/26045779/how-to-turn-all-numbers-in-a-list-into-their-negative-counterparts),  last accessed 22/12/23\n",
    "\n",
    "[9] Geeksforgeeks.com, (https://www.geeksforgeeks.org/how-to-remove-all-decimals-from-a-number-using-python/), last accessed 29/12/23\n",
    "\n",
    "[10] Saturncloud.io, (https://saturncloud.io/blog/converting-object-column-in-pandas-dataframe-to-datetime-a-data-scientists-guide/#:~:text=To%20convert%20this%20column%20to,to_datetime()%20method.&text=In%20this%20example%2C%20we%20used,'%20)%2C%20and%20the%20pd.), last accessed 29/12/23\n",
    "\n",
    "[11] Datacamp.com, (https://campus.datacamp.com/courses/introduction-to-data-visualization-with-matplotlib/plotting-time-series?ex=5#:~:text=Using%20twin%20axes,-00%3A00%20%2D%2000&text=Again%2C%20we%20start%20by%20adding,object%20and%20show%20the%20figure.), last accessed 04/01/23\n",
    "\n",
    "[12] Stackoverflow.com, (https://stackoverflow.com/questions/2051744/how-to-invert-the-x-or-y-axis), last accessed 04/01/23\n",
    "\n",
    "[13] Stackoverflow.com, (https://stackoverflow.com/questions/40705614/hide-axis-label-only-not-entire-axis-in-pandas-plot), last accessed 06/01/24\n",
    "\n",
    "[14] Stackoverflow.com, (https://stackoverflow.com/questions/46658232/pandas-convert-column-with-year-integer-to-datetime), last accessed 07/01/24\n",
    "\n",
    "[15] Stackoverflow.com, (https://stackoverflow.com/questions/68460147/select-rows-of-specific-months-in-pandas-dataframe), last accessed 07/01/24\n",
    "\n",
    "[16] Stackoverflow.com, (https://stackoverflow.com/questions/58432235/changing-color-of-seaborn-plot-line), last accessed 08/01/24\n",
    "\n",
    "[17] Pynative.com, (https://pynative.com/python-create-list-of-dates-within-range/), last accessed 08/01/24\n",
    "\n",
    "[18] Stackoverflow.com, (https://stackoverflow.com/questions/32168848/how-to-create-a-pandas-datetimeindex-with-year-as-frequency), last accessed 08/01/24\n",
    "\n",
    "[19] Shanelynn.ie, (https://www.shanelynn.ie/pandas-drop-delete-dataframe-rows-columns/), last accessed 08/01/24\n",
    "\n",
    "[20] Sparkbyexamples.com, (https://sparkbyexamples.com/pandas/pandas-convert-string-to-float-type-dataframe/), last accessed 08/01/24\n",
    "\n",
    "[23] Stackoverflow.com, (https://stackoverflow.com/questions/16923281/writing-a-pandas-dataframe-to-csv-file), last accessed 09/01/24\n",
    "\n",
    "[24] Datatofish.com, (https://datatofish.com/csv-to-json-string-python/), last accessed 09/01/24\n",
    "\n",
    "### Datasets\n",
    "\n",
    "[7] European Environment Agency, [cumulative-ice-mass-loss-and.csv] (https://www.eea.europa.eu/data-and-maps/daviz/cumulative-ice-mass-loss-and#tab-dashboard-01), last accessed 27/12/23\n",
    "\n",
    "[8] NOAA, [Sea_Ice_Index_Monthly_Data_by_Year.csv] (https://noaadata.apps.nsidc.org/NOAA/G02135/seaice_analysis/), Last accessed 27/12/23\n",
    "\n",
    "[14] Mateus, C.; Potito, A.; Curley, M. 2020. \"Reconstruction of a long-term historical daily maximum and minimum air temperature network dataset for Ireland (1831-1968).\" Geoscience Data Journal. http://dx.doi.org/10.1002/gdj3.92, (https://www.met.ie/climate/available-data/long-term-data-sets/), last accessed 06/01/24\n",
    "\n",
    "[21] Met Eireann, [Sligo_Airport_Temps.csv)], (https://data.gov.ie/dataset/sligo-airport-climate-data), last accessed 08/01/24\n",
    "\n",
    "[22] Met Eireann, [Markree_Recent_Temps.csv], (https://data.gov.ie/dataset/markree-monthly-data), last accessed 08/01/24"
   ]
  },
  {
   "cell_type": "markdown",
   "metadata": {},
   "source": [
    "***\n",
    "## The End"
   ]
  }
 ],
 "metadata": {
  "kernelspec": {
   "display_name": "base",
   "language": "python",
   "name": "python3"
  },
  "language_info": {
   "codemirror_mode": {
    "name": "ipython",
    "version": 3
   },
   "file_extension": ".py",
   "mimetype": "text/x-python",
   "name": "python",
   "nbconvert_exporter": "python",
   "pygments_lexer": "ipython3",
   "version": "3.11.4"
  }
 },
 "nbformat": 4,
 "nbformat_minor": 2
}
